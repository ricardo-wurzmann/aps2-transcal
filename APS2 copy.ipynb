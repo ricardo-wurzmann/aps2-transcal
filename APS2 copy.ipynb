{
 "cells": [
  {
   "cell_type": "markdown",
   "metadata": {},
   "source": [
    "# ApS 2 De Transcal\n",
    "Equipe 9\n",
    "\n",
    "Breno Schneider\n",
    "\n",
    "João Bresser\n",
    "\n",
    "Ricardo Wurzmann"
   ]
  },
  {
   "cell_type": "markdown",
   "metadata": {},
   "source": [
    "# Exercicio 1"
   ]
  },
  {
   "cell_type": "markdown",
   "metadata": {},
   "source": [
    "Qual é a taxa de variação de temperatura na placa considerando a convecção?\n",
    "\n",
    "E qual é a taxa de variação de temperatura na placa quando não consideramos a convecção? \n",
    "Discuta os\n",
    "resultados obtidos e mostre o equacionamento."
   ]
  },
  {
   "cell_type": "markdown",
   "metadata": {},
   "source": [
    "## RESPOSTA\n",
    "A taxa de variação considerando a conveccao é :**0.07196860689242891**\n",
    "\n",
    "a taxa de variação temperatura na placa quando não consideramos a convecção é : **0.08420371676371556**\n",
    "\n",
    "**Discussão**:\n",
    "\n",
    "Como a convecção é desconsiderada, um dos fluxos de energia para fora da placa é menor, o que resultaria em uma maior taxa de variação de temperatura. Essá logica condiz com o sresultados obtidos no exercício\n",
    "\n",
    "O equacionamento desenvolvido ficou da seguinte forma:\n"
   ]
  },
  {
   "cell_type": "markdown",
   "metadata": {},
   "source": [
    "\\begin{equation}\n",
    "mc\\frac{dT}{\\text{dt}} = \\alpha G - E\\sigma T_s^{4} - h (T_s - T_{\\infty})\n",
    "\\end{equation}\n"
   ]
  },
  {
   "cell_type": "markdown",
   "metadata": {},
   "source": [
    "## Exercicio 2\n",
    "\n",
    "2,0 pontos): Qual seria a temperatura quando atingirmos o equilíbrio em regime permanente? Indique\n",
    "o que poderia ser feito para determinar essa temperatura"
   ]
  },
  {
   "cell_type": "markdown",
   "metadata": {},
   "source": [
    "## Resposta\n",
    "\n",
    "para determinar a temperatura em regime permante é necessario igualar a formula a 0 e isolar a Temperatura, para determnar a temperatura é possivel fazer um loop que vai iterando sobre o valor de Ts até um valor que a formula abaixo seja verdadeira"
   ]
  },
  {
   "cell_type": "markdown",
   "metadata": {},
   "source": [
    "\\begin{gather*}\n",
    "\\alpha G - (\\epsilon + h(T_s - T_{\\infty})) = 0 \\\\\n",
    "\\alpha G - (\\epsilon \\sigma T_s^4 + h(T_s - T_{\\infty})) = 0 \\\\\n",
    "\\alpha G = \\epsilon \\sigma T_s^4 + h(T_s - T_{\\infty}) \\\\\n",
    "\\alpha G + hT_{\\infty} = \\epsilon \\sigma T_s^4 + hT_s \\\\\n",
    "T_s(\\epsilon \\sigma T_s^3 + h) = \\alpha G + hT_{\\infty}\n",
    "\\end{gather*}\n"
   ]
  },
  {
   "cell_type": "markdown",
   "metadata": {},
   "source": [
    "## Exercicio 3\n"
   ]
  },
  {
   "cell_type": "markdown",
   "metadata": {},
   "source": [
    "## Resposta\n",
    "\n",
    "A potencia máxima permetida para este microprocessador em W é **0.035**\n",
    "\n",
    "e a potencia máxima considerando o líquido ficaria **0.399736925**\n",
    "\n",
    "O resulado é esperado pois como coeficiente de convevção do hdi é maior o chip tem mais poder de resfriamento, o que permetiria que ele atingisse potencia maiores. "
   ]
  },
  {
   "cell_type": "markdown",
   "metadata": {},
   "source": [
    "## Exercicio 4\n",
    "## Resposta\n",
    "\n",
    "O delta_U é igual a **2928806.58 J**"
   ]
  }
 ],
 "metadata": {
  "kernelspec": {
   "display_name": "Python 3",
   "language": "python",
   "name": "python3"
  },
  "language_info": {
   "codemirror_mode": {
    "name": "ipython",
    "version": 3
   },
   "file_extension": ".py",
   "mimetype": "text/x-python",
   "name": "python",
   "nbconvert_exporter": "python",
   "pygments_lexer": "ipython3",
   "version": "3.10.12"
  }
 },
 "nbformat": 4,
 "nbformat_minor": 2
}
