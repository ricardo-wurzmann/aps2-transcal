{
 "cells": [
  {
   "cell_type": "markdown",
   "metadata": {},
   "source": [
    "Variaveis para o exercicio"
   ]
  },
  {
   "cell_type": "code",
   "execution_count": 46,
   "metadata": {},
   "outputs": [],
   "source": [
    "p = 2780\n",
    "c = 840\n",
    "hdi = 228.4211\n",
    "t = 2200\n",
    "espessura = 3.5 *10e-3\n",
    "e = 0.25\n",
    "sigma = 5.67 * 10e-8\n",
    "alfa = 0.8\n",
    "\n",
    "t_placa = 25 + 273"
   ]
  },
  {
   "cell_type": "markdown",
   "metadata": {},
   "source": [
    "#### Exercicio 1"
   ]
  },
  {
   "cell_type": "code",
   "execution_count": 47,
   "metadata": {},
   "outputs": [],
   "source": [
    "fluxo_radiacao = 1000\n",
    "coeficiente_conveccao = 20\n",
    "t_ar = 20 + 273"
   ]
  },
  {
   "cell_type": "markdown",
   "metadata": {},
   "source": [
    "Qual é a taxa de variação de temperatura na placa considerando a convecção?\n",
    "\n",
    "E qual é a taxa de variação de temperatura na placa quando não consideramos a convecção? \n",
    "Discuta os\n",
    "resultados obtidos e mostre o equacionamento."
   ]
  },
  {
   "cell_type": "code",
   "execution_count": 48,
   "metadata": {},
   "outputs": [
    {
     "data": {
      "text/plain": [
       "100"
      ]
     },
     "metadata": {},
     "output_type": "display_data"
    },
    {
     "data": {
      "text/plain": [
       "1117.8618214679998"
      ]
     },
     "metadata": {},
     "output_type": "display_data"
    },
    {
     "data": {
      "text/plain": [
       "-0.0026655633224196124"
      ]
     },
     "metadata": {},
     "output_type": "display_data"
    },
    {
     "data": {
      "text/plain": [
       "-0.0038890743095482765"
      ]
     },
     "metadata": {},
     "output_type": "display_data"
    },
    {
     "name": "stdout",
     "output_type": "stream",
     "text": [
      "discutido\n"
     ]
    }
   ],
   "source": [
    "fluxo_conveccao = coeficiente_conveccao*(t_placa - t_ar)\n",
    "fluxo_radiacao2 = e * sigma * t_placa**4\n",
    "\n",
    "taxa_temp = (alfa*fluxo_radiacao - (fluxo_radiacao2 - fluxo_conveccao))/ (p * c * espessura)\n",
    "taxa_temp_sem_conveccao = (alfa*fluxo_radiacao - (fluxo_radiacao2 - 0))/ (p * c * espessura)\n",
    "\n",
    "display(fluxo_conveccao, fluxo_radiacao2, taxa_temp, taxa_temp_sem_conveccao)\n",
    "print(\"discutido\")"
   ]
  },
  {
   "cell_type": "markdown",
   "metadata": {},
   "source": [
    "## Exercicio 2\n",
    "\n",
    "2,0 pontos): Qual seria a temperatura quando atingirmos o equilíbrio em regime permanente? Indique\n",
    "o que poderia ser feito para determinar essa temperatura"
   ]
  },
  {
   "cell_type": "code",
   "execution_count": 49,
   "metadata": {},
   "outputs": [],
   "source": [
    "x =alfa*fluxo_radiacao - (fluxo_radiacao2 - fluxo_conveccao)\n",
    "temp_ex_2 =(-coeficiente_conveccao*(t_placa - t_ar))\n",
    "\n"
   ]
  },
  {
   "cell_type": "markdown",
   "metadata": {},
   "source": [
    "\\begin{gather*}\n",
    "\\alpha G - (\\epsilon + h(T_s - T_{\\infty})) = 0 \\\\\n",
    "\\alpha G - (\\epsilon \\sigma T_s^4 + h(T_s - T_{\\infty})) = 0 \\\\\n",
    "\\alpha G = \\epsilon \\sigma T_s^4 + h(T_s - T_{\\infty}) \\\\\n",
    "\\alpha G + hT_{\\infty} = \\epsilon \\sigma T_s^4 + hT_s \\\\\n",
    "T_s(\\epsilon \\sigma T_s^3 + h) = \\alpha G + hT_{\\infty}\n",
    "\\end{gather*}\n"
   ]
  },
  {
   "cell_type": "code",
   "execution_count": 50,
   "metadata": {},
   "outputs": [
    {
     "data": {
      "text/plain": [
       "285.74762842427623"
      ]
     },
     "execution_count": 50,
     "metadata": {},
     "output_type": "execute_result"
    }
   ],
   "source": [
    "from scipy.optimize import fsolve\n",
    "import numpy as np\n",
    "\n",
    "\n",
    "# Equação de balanço de energia para a temperatura superficial da placa (Ts)\n",
    "def energy_balance(Ts):\n",
    "    Q_solar = alfa * fluxo_radiacao\n",
    "    Q_radiation = e * sigma * Ts**4\n",
    "    Q_convection = coeficiente_conveccao * (Ts - t_ar)\n",
    "\n",
    "    # Balanço de energia\n",
    "    balance = Q_solar - (Q_radiation + Q_convection)\n",
    "    return balance\n",
    "\n",
    "# Usar fsolve para encontrar a temperatura superficial da placa (Ts)\n",
    "Ts_initial_guess = t_placa\n",
    "Ts_solution = fsolve(energy_balance, Ts_initial_guess)\n",
    "\n",
    "Ts_solution[0]\n",
    "\n",
    "\n"
   ]
  },
  {
   "cell_type": "markdown",
   "metadata": {},
   "source": [
    "## Exercicio 3\n"
   ]
  },
  {
   "cell_type": "code",
   "execution_count": 51,
   "metadata": {},
   "outputs": [
    {
     "data": {
      "text/plain": [
       "0.035"
      ]
     },
     "execution_count": 51,
     "metadata": {},
     "output_type": "execute_result"
    }
   ],
   "source": [
    "# Definindo os parâmetros fornecidos\n",
    "h_ar = 20  # Coeficiente de convecção para o ar (W/m²K)\n",
    "T_chip_max = 85 + 273.15  # Temperatura máxima do chip em Kelvin\n",
    "T_ambiente_ar = 15 + 273.15  # Temperatura do refrigerante (ar) em Kelvin\n",
    "w = 5e-3  # Largura do microprocessador em metros\n",
    "\n",
    "# Área da superfície frontal do microprocessador (m²)\n",
    "A = w**2\n",
    "\n",
    "# Calculando a potência máxima permitida com ar como refrigerante\n",
    "P_max_ar = h_ar * A * (T_chip_max - T_ambiente_ar)\n",
    "P_max_ar\n"
   ]
  },
  {
   "cell_type": "markdown",
   "metadata": {},
   "source": [
    "## Exercicio 4\n"
   ]
  },
  {
   "cell_type": "code",
   "execution_count": 53,
   "metadata": {},
   "outputs": [
    {
     "name": "stderr",
     "output_type": "stream",
     "text": [
      "/tmp/ipykernel_44652/3487937575.py:21: DeprecationWarning: 'scipy.integrate.simps' is deprecated in favour of 'scipy.integrate.simpson' and will be removed in SciPy 1.14.0\n",
      "  Q_total = integrate.simps(q_t(tempo), tempo)\n",
      "/tmp/ipykernel_44652/3487937575.py:22: DeprecationWarning: 'scipy.integrate.simps' is deprecated in favour of 'scipy.integrate.simpson' and will be removed in SciPy 1.14.0\n",
      "  W_total = integrate.simps(w_t(tempo), tempo)\n"
     ]
    },
    {
     "data": {
      "text/plain": [
       "(array([-1.38888889e-04,  4.16666667e-01,  1.50000000e+03]),\n",
       " array([-3.08641975e-05,  1.38888889e-01,  3.00000000e+02]),\n",
       " 5939999.999999999,\n",
       " 1499999.9999999998,\n",
       " 4439999.999999999)"
      ]
     },
     "execution_count": 53,
     "metadata": {},
     "output_type": "execute_result"
    }
   ],
   "source": [
    "import numpy as np\n",
    "import scipy.integrate as integrate\n",
    "import matplotlib.pyplot as plt\n",
    "\n",
    "# Dados fornecidos\n",
    "tempo = np.array([0, 1800, 3600])  # tempo em segundos\n",
    "taxa_calor = np.array([1500, 1800, 1200])  # taxa de transferência de calor em Watts\n",
    "trabalho = np.array([300, 450, 400])  # trabalho em Watts\n",
    "\n",
    "# Interpolação de Lagrange para taxa de transferência de calor q(t) e trabalho w(t)\n",
    "# Numpy já possui uma função para interpolação de Lagrange\n",
    "polinomio_calor = np.polyfit(tempo, taxa_calor, 2)  # interpolação quadrática\n",
    "polinomio_trabalho = np.polyfit(tempo, trabalho, 2)  # interpolação quadrática\n",
    "\n",
    "# Função para calcular q(t) e w(t) dados os coeficientes dos polinômios\n",
    "q_t = np.poly1d(polinomio_calor)\n",
    "w_t = np.poly1d(polinomio_trabalho)\n",
    "\n",
    "# Integração numérica usando a regra de Simpson 1/3\n",
    "# A integração será feita de 0 a 3600 segundos (1 hora)\n",
    "Q_total = integrate.simps(q_t(tempo), tempo)\n",
    "W_total = integrate.simps(w_t(tempo), tempo)\n",
    "\n",
    "# Calculando a variação da energia interna Δu = Q - W\n",
    "delta_u = Q_total - W_total\n",
    "\n",
    "# Retornando os polinômios e o valor de Δu\n",
    "polinomio_calor, polinomio_trabalho, Q_total, W_total, delta_u\n"
   ]
  },
  {
   "cell_type": "code",
   "execution_count": null,
   "metadata": {},
   "outputs": [],
   "source": []
  }
 ],
 "metadata": {
  "kernelspec": {
   "display_name": "Python 3",
   "language": "python",
   "name": "python3"
  },
  "language_info": {
   "codemirror_mode": {
    "name": "ipython",
    "version": 3
   },
   "file_extension": ".py",
   "mimetype": "text/x-python",
   "name": "python",
   "nbconvert_exporter": "python",
   "pygments_lexer": "ipython3",
   "version": "3.10.12"
  }
 },
 "nbformat": 4,
 "nbformat_minor": 2
}
