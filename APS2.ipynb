{
 "cells": [
  {
   "cell_type": "markdown",
   "metadata": {},
   "source": [
    "Variaveis para o exercicio"
   ]
  },
  {
   "cell_type": "code",
   "execution_count": 1,
   "metadata": {},
   "outputs": [],
   "source": [
    "p = 2780\n",
    "c = 840\n",
    "hdi = 228.4211\n",
    "t = 2200\n",
    "espessura = 3.5 *10e-3\n",
    "e = 0.25\n",
    "sigma = 5.67 * 10e-8\n",
    "alfa = 0.8\n",
    "\n",
    "t_placa = 25 + 273"
   ]
  },
  {
   "cell_type": "markdown",
   "metadata": {},
   "source": [
    "#### Exercicio 1"
   ]
  },
  {
   "cell_type": "code",
   "execution_count": 2,
   "metadata": {},
   "outputs": [],
   "source": [
    "fluxo_radiacao = 1000\n",
    "coeficiente_conveccao = 20\n",
    "t_ar = 20 + 273"
   ]
  },
  {
   "cell_type": "markdown",
   "metadata": {},
   "source": [
    "Qual é a taxa de variação de temperatura na placa considerando a convecção?\n",
    "\n",
    "E qual é a taxa de variação de temperatura na placa quando não consideramos a convecção? \n",
    "Discuta os\n",
    "resultados obtidos e mostre o equacionamento."
   ]
  },
  {
   "cell_type": "code",
   "execution_count": 3,
   "metadata": {},
   "outputs": [
    {
     "data": {
      "text/plain": [
       "100"
      ]
     },
     "metadata": {},
     "output_type": "display_data"
    },
    {
     "data": {
      "text/plain": [
       "1117.8618214679998"
      ]
     },
     "metadata": {},
     "output_type": "display_data"
    },
    {
     "data": {
      "text/plain": [
       "-0.0026655633224196124"
      ]
     },
     "metadata": {},
     "output_type": "display_data"
    },
    {
     "data": {
      "text/plain": [
       "-0.0038890743095482765"
      ]
     },
     "metadata": {},
     "output_type": "display_data"
    },
    {
     "name": "stdout",
     "output_type": "stream",
     "text": [
      "discutido\n"
     ]
    }
   ],
   "source": [
    "fluxo_conveccao = coeficiente_conveccao*(t_placa - t_ar)\n",
    "fluxo_radiacao2 = e * sigma * t_placa**4\n",
    "\n",
    "taxa_temp = (alfa*fluxo_radiacao - (fluxo_radiacao2 - fluxo_conveccao))/ (p * c * espessura)\n",
    "taxa_temp_sem_conveccao = (alfa*fluxo_radiacao - (fluxo_radiacao2 - 0))/ (p * c * espessura)\n",
    "\n",
    "display(fluxo_conveccao, fluxo_radiacao2, taxa_temp, taxa_temp_sem_conveccao)\n",
    "print(\"discutido\")"
   ]
  },
  {
   "cell_type": "markdown",
   "metadata": {},
   "source": [
    "## Exercicio 2\n",
    "\n",
    "2,0 pontos): Qual seria a temperatura quando atingirmos o equilíbrio em regime permanente? Indique\n",
    "o que poderia ser feito para determinar essa temperatura"
   ]
  },
  {
   "cell_type": "code",
   "execution_count": 4,
   "metadata": {},
   "outputs": [],
   "source": [
    "x =alfa*fluxo_radiacao - (fluxo_radiacao2 - fluxo_conveccao)\n",
    "temp_ex_2 =(-coeficiente_conveccao*(t_placa - t_ar))\n",
    "\n"
   ]
  },
  {
   "cell_type": "markdown",
   "metadata": {},
   "source": [
    "\\begin{gather*}\n",
    "\\alpha G - (\\epsilon + h(T_s - T_{\\infty})) = 0 \\\\\n",
    "\\alpha G - (\\epsilon \\sigma T_s^4 + h(T_s - T_{\\infty})) = 0 \\\\\n",
    "\\alpha G = \\epsilon \\sigma T_s^4 + h(T_s - T_{\\infty}) \\\\\n",
    "\\alpha G + hT_{\\infty} = \\epsilon \\sigma T_s^4 + hT_s \\\\\n",
    "T_s(\\epsilon \\sigma T_s^3 + h) = \\alpha G + hT_{\\infty}\n",
    "\\end{gather*}\n"
   ]
  },
  {
   "cell_type": "code",
   "execution_count": 5,
   "metadata": {},
   "outputs": [
    {
     "data": {
      "text/plain": [
       "285.74762842427623"
      ]
     },
     "execution_count": 5,
     "metadata": {},
     "output_type": "execute_result"
    }
   ],
   "source": [
    "from scipy.optimize import fsolve\n",
    "import numpy as np\n",
    "\n",
    "\n",
    "# Equação de balanço de energia para a temperatura superficial da placa (Ts)\n",
    "def energy_balance(Ts):\n",
    "    Q_solar = alfa * fluxo_radiacao\n",
    "    Q_radiation = e * sigma * Ts**4\n",
    "    Q_convection = coeficiente_conveccao * (Ts - t_ar)\n",
    "\n",
    "    # Balanço de energia\n",
    "    balance = Q_solar - (Q_radiation + Q_convection)\n",
    "    return balance\n",
    "\n",
    "# Usar fsolve para encontrar a temperatura superficial da placa (Ts)\n",
    "Ts_initial_guess = t_placa\n",
    "Ts_solution = fsolve(energy_balance, Ts_initial_guess)\n",
    "\n",
    "Ts_solution[0]\n",
    "\n",
    "\n"
   ]
  },
  {
   "cell_type": "markdown",
   "metadata": {},
   "source": [
    "## Exercicio 3\n"
   ]
  },
  {
   "cell_type": "code",
   "execution_count": 3,
   "metadata": {},
   "outputs": [
    {
     "name": "stdout",
     "output_type": "stream",
     "text": [
      "Potência máxima permitida para este microprocessador em W: 0.035\n",
      "Potência máxima permitida (hdi coeficiente de conveccao) em W 0.399736925\n"
     ]
    }
   ],
   "source": [
    "# Definindo os parâmetros fornecidos\n",
    "h_ar = 20  \n",
    "T_chip_max = 85 + 273  \n",
    "T_ambiente_ar = 15 + 273  \n",
    "w = 5e-3 \n",
    "\n",
    "A = w**2\n",
    "\n",
    "P_max_ar = h_ar * A * (T_chip_max - T_ambiente_ar)\n",
    "print(\"Potência máxima permitida para este microprocessador em W:\", P_max_ar)\n",
    "\n",
    "hdi = 228.4211 \n",
    "P_max_hdi = hdi * A * (T_chip_max - T_ambiente_ar)\n",
    "\n",
    "print(\"Potência máxima permitida (hdi coeficiente de conveccao) em W\", P_max_hdi)\n",
    "\n"
   ]
  },
  {
   "cell_type": "markdown",
   "metadata": {},
   "source": [
    "## Exercicio 4\n"
   ]
  },
  {
   "cell_type": "code",
   "execution_count": 5,
   "metadata": {},
   "outputs": [
    {
     "ename": "NameError",
     "evalue": "name 'np' is not defined",
     "output_type": "error",
     "traceback": [
      "\u001b[0;31m---------------------------------------------------------------------------\u001b[0m",
      "\u001b[0;31mNameError\u001b[0m                                 Traceback (most recent call last)",
      "Cell \u001b[0;32mIn[5], line 50\u001b[0m\n\u001b[1;32m     40\u001b[0m w_values \u001b[38;5;241m=\u001b[39m [\u001b[38;5;241m300\u001b[39m, \u001b[38;5;241m450\u001b[39m, \u001b[38;5;241m400\u001b[39m]\n\u001b[1;32m     42\u001b[0m \u001b[38;5;66;03m# Interpolação de Lagrange para q(t) e w(t)\u001b[39;00m\n\u001b[1;32m     43\u001b[0m \u001b[38;5;66;03m# q_func = interpolacao_lagrange(2200, t_values[0], t_values[1], t_values[2], q_values[0], q_values[1], q_values[2])\u001b[39;00m\n\u001b[1;32m     44\u001b[0m \u001b[38;5;66;03m# w_func = interpolacao_lagrange(2200, t_values[0], t_values[1], t_values[2], w_values[0], w_values[1], w_values[2])\u001b[39;00m\n\u001b[0;32m   (...)\u001b[0m\n\u001b[1;32m     48\u001b[0m \n\u001b[1;32m     49\u001b[0m \u001b[38;5;66;03m# # Cálculo da variação da energia interna\u001b[39;00m\n\u001b[0;32m---> 50\u001b[0m q_func_simp \u001b[38;5;241m=\u001b[39m \u001b[43msimpson_umterco\u001b[49m\u001b[43m(\u001b[49m\u001b[38;5;241;43m0\u001b[39;49m\u001b[43m,\u001b[49m\u001b[38;5;241;43m2200\u001b[39;49m\u001b[43m,\u001b[49m\u001b[38;5;241;43m100\u001b[39;49m\u001b[43m,\u001b[49m\u001b[43mt_values\u001b[49m\u001b[43m,\u001b[49m\u001b[43mq_values\u001b[49m\u001b[43m)\u001b[49m\n\u001b[1;32m     51\u001b[0m w_func_simp\u001b[38;5;241m=\u001b[39m simpson_umterco(\u001b[38;5;241m0\u001b[39m,\u001b[38;5;241m2200\u001b[39m,\u001b[38;5;241m100\u001b[39m,t_values,w_values)\n\u001b[1;32m     53\u001b[0m \u001b[38;5;66;03m# print(q_func, w_func)\u001b[39;00m\n",
      "Cell \u001b[0;32mIn[5], line 21\u001b[0m, in \u001b[0;36msimpson_umterco\u001b[0;34m(a, b, n, t_valu, valu)\u001b[0m\n\u001b[1;32m     20\u001b[0m \u001b[38;5;28;01mdef\u001b[39;00m \u001b[38;5;21msimpson_umterco\u001b[39m(a, b, n,t_valu, valu):\n\u001b[0;32m---> 21\u001b[0m     valores \u001b[38;5;241m=\u001b[39m \u001b[43mnp\u001b[49m\u001b[38;5;241m.\u001b[39mlinspace(a, b, n \u001b[38;5;241m+\u001b[39m \u001b[38;5;241m1\u001b[39m)\n\u001b[1;32m     23\u001b[0m     largura \u001b[38;5;241m=\u001b[39m b \u001b[38;5;241m-\u001b[39m a\n\u001b[1;32m     25\u001b[0m     somatoria_i \u001b[38;5;241m=\u001b[39m \u001b[38;5;241m0\u001b[39m\n",
      "\u001b[0;31mNameError\u001b[0m: name 'np' is not defined"
     ]
    }
   ],
   "source": [
    "# from scipy.integrate import simps\n",
    "import numpy as np\n",
    "\n",
    "# def interpolacao_lagrange(x, x0, x1, x2, fx0, fx1, fx2):\n",
    "#     fx = (fx0 * (x - x1) * (x - x2) / ((x0 - x1) * (x0 - x2)) +\n",
    "#           fx1 * (x - x0) * (x - x2) / ((x1 - x0) * (x1 - x2)) +\n",
    "#           fx2 * (x - x0) * (x - x1) / ((x2 - x0) * (x2 - x1)))\n",
    "#     return fx\n",
    "\n",
    "def lagrange(ti, qi, t_target):\n",
    "    n = len(ti)\n",
    "    L = 0\n",
    "    for i in range(n):\n",
    "        l = 1\n",
    "        for j in range(n):\n",
    "            if j != i:\n",
    "                l *= (t_target - ti[j]) / (ti[i] - ti[j])\n",
    "        L += qi[i] * l\n",
    "    return L\n",
    "\n",
    "def simpson_umterco(a, b, n,t_valu, valu):\n",
    "    valores = np.linspace(a, b, n + 1)\n",
    "\n",
    "    largura = b - a\n",
    "\n",
    "    somatoria_i = 0\n",
    "    for i in range(1, len(valores) - 1, 2):\n",
    "        somatoria_i += lagrange(t_valu,valu,valores[i])\n",
    "\n",
    "    somatoria_j = 0\n",
    "    for j in range(2, len(valores) - 2, 2):\n",
    "        somatoria_j += lagrange(t_valu,valu,valores[j])\n",
    "\n",
    "    altura_media = (lagrange(t_valu,valu,a) + 4*somatoria_i + 2*somatoria_j + lagrange(t_valu,valu,b))/(3 * n)\n",
    "\n",
    "    return largura * altura_media\n",
    "\n",
    "# Dados do problema\n",
    "t_values = [0, 1800, 3600]\n",
    "q_values = [1500, 1800, 1200]\n",
    "w_values = [300, 450, 400]\n",
    "\n",
    "# Interpolação de Lagrange para q(t) e w(t)\n",
    "# q_func = interpolacao_lagrange(2200, t_values[0], t_values[1], t_values[2], q_values[0], q_values[1], q_values[2])\n",
    "# w_func = interpolacao_lagrange(2200, t_values[0], t_values[1], t_values[2], w_values[0], w_values[1], w_values[2])\n",
    "\n",
    "\n",
    "# print(q_func, w_func)\n",
    "\n",
    "# # Cálculo da variação da energia interna\n",
    "q_func_simp = simpson_umterco(0,2200,100,t_values,q_values)\n",
    "w_func_simp= simpson_umterco(0,2200,100,t_values,w_values)\n",
    "\n",
    "# print(q_func, w_func)\n",
    "\n",
    "delta_u = q_func_simp - w_func_simp\n",
    "\n",
    "print(f\"Delta U = {delta_u:.2f} J\")\n"
   ]
  },
  {
   "cell_type": "code",
   "execution_count": null,
   "metadata": {},
   "outputs": [],
   "source": [
    "\n",
    "\n"
   ]
  }
 ],
 "metadata": {
  "kernelspec": {
   "display_name": "Python 3",
   "language": "python",
   "name": "python3"
  },
  "language_info": {
   "codemirror_mode": {
    "name": "ipython",
    "version": 3
   },
   "file_extension": ".py",
   "mimetype": "text/x-python",
   "name": "python",
   "nbconvert_exporter": "python",
   "pygments_lexer": "ipython3",
   "version": "3.10.12"
  }
 },
 "nbformat": 4,
 "nbformat_minor": 2
}
